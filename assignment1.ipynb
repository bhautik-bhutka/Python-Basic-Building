'''Q.1)'''
a = "bhautik"
print(a)

a = [1, 2, 3, "bhautik", "jigar", 4 + 8j]
print(a)

a = 15.85
print(a)

a = (1, 2, 3, 4, 5, 6, "jaanvi", "nikita")
print(a)



'''Q.2)'''
var1 = ''
print(type(var1))

var2 = '[ DS , ML , Python]'
print(type(var2))

var3 = [ 'DS' ,'ML', 'python']
print(type(var3))

var4 = 1
print(type(var4))




'''Q.3)'''
a = 7/5
print(a)

a = 7%5
print(a)

a = 7//5
print(a)

a = 7**5
print(a)




'''Q.4)'''
my_list = [42, "Hello, world!", 3.14, True, [1, 2, 3], 11 + 2j, None, (4, 5), False, 9.99]

for element in my_list:
    data_type = type(element)
    print(f"Element: {element}, Data Type: {data_type}")




'''Q.5)'''
a = int(input("Please write a number A:"))
b = int(input("Please write a number B:"))
count = 0

while a%b == 0:
    c = c//b
    count += 1

if count > 0:
        print(f"Number {a} is purely devisible by {b} and it can devide {count} times.")
else:
          print(f"Number {a} is purely devisible by {b}.")






'''Q.6)'''
lst = [1,2,3,4,5,6,7,8,9,11,22,33,44,55,66,77,88,99,12,1314,14,15,16,17,19]

for e in range(1, 26):
    if e%3 == 0:
        print("number is divisible by 3")
    else:
        print("number is not divisible by 3")




'''Q.7) What do you understand about mutable and immutable data types? Give examples for both showing 
this property'''

'''For mutable data we can replace an any index with anything for eg. List, If I want to update a list element 
I can do that.'''
list = [1,2,3,4,5]
list[2] = 999
#Output of above code is [1,2,999,4,5]

'''For immutable data we can not replace an any index with anything for eg. string.'''
str = "bhautik"
# Now if I want to change my 1st latter of my string I can't do that with this
str[3] = "v"
# It'll give us an error.
